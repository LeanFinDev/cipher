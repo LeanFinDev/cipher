{
 "cells": [
  {
   "cell_type": "code",
   "execution_count": 1,
   "id": "static-magnet",
   "metadata": {},
   "outputs": [
    {
     "name": "stdout",
     "output_type": "stream",
     "text": [
      "Using version \u001b[1m^0.2.23-beta.0\u001b[0m for \u001b[36mpandas-ta\u001b[0m\n",
      "\n",
      "\u001b[34mUpdating dependencies\u001b[0m\n",
      "\u001b[2K\u001b[34mResolving dependencies...\u001b[0m \u001b[39;2m(62.8s)\u001b[0m[34mResolving dependencies...\u001b[0m \u001b[39;2m(0.6s)\u001b[0m\u001b[34mResolving dependencies...\u001b[0m \u001b[39;2m(0.8s)\u001b[0m\u001b[34mResolving dependencies...\u001b[0m \u001b[39;2m(1.0s)\u001b[0m\u001b[34mResolving dependencies...\u001b[0m \u001b[39;2m(4.1s)\u001b[0m\u001b[34mResolving dependencies...\u001b[0m \u001b[39;2m(6.7s)\u001b[0m\u001b[34mResolving dependencies...\u001b[0m \u001b[39;2m(11.4s)\u001b[0m\u001b[34mResolving dependencies...\u001b[0m \u001b[39;2m(11.7s)\u001b[0m\u001b[34mResolving dependencies...\u001b[0m \u001b[39;2m(15.4s)\u001b[0m\u001b[34mResolving dependencies...\u001b[0m \u001b[39;2m(17.3s)\u001b[0m\u001b[34mResolving dependencies...\u001b[0m \u001b[39;2m(17.8s)\u001b[0m\u001b[34mResolving dependencies...\u001b[0m \u001b[39;2m(20.0s)\u001b[0m\u001b[34mResolving dependencies...\u001b[0m \u001b[39;2m(23.6s)\u001b[0m\u001b[34mResolving dependencies...\u001b[0m \u001b[39;2m(26.0s)\u001b[0m\u001b[34mResolving dependencies...\u001b[0m \u001b[39;2m(26.1s)\u001b[0m\u001b[34mResolving dependencies...\u001b[0m \u001b[39;2m(26.3s)\u001b[0m\u001b[34mResolving dependencies...\u001b[0m \u001b[39;2m(26.4s)\u001b[0m\u001b[34mResolving dependencies...\u001b[0m \u001b[39;2m(31.0s)\u001b[0m\u001b[34mResolving dependencies...\u001b[0m \u001b[39;2m(31.1s)\u001b[0m\u001b[34mResolving dependencies...\u001b[0m \u001b[39;2m(31.2s)\u001b[0m\u001b[34mResolving dependencies...\u001b[0m \u001b[39;2m(39.5s)\u001b[0m\u001b[34mResolving dependencies...\u001b[0m \u001b[39;2m(39.6s)\u001b[0m\u001b[34mResolving dependencies...\u001b[0m \u001b[39;2m(41.9s)\u001b[0m\u001b[34mResolving dependencies...\u001b[0m \u001b[39;2m(43.5s)\u001b[0m\u001b[34mResolving dependencies...\u001b[0m \u001b[39;2m(48.7s)\u001b[0m\u001b[34mResolving dependencies...\u001b[0m \u001b[39;2m(57.0s)\u001b[0m\u001b[34mResolving dependencies...\u001b[0m \u001b[39;2m(62.9s)\u001b[0m\u001b[34mResolving dependencies...\u001b[0m \u001b[39;2m(63.1s)\u001b[0m\n",
      "\n",
      "\u001b[34mWriting lock file\u001b[0m\n",
      "\n",
      "\u001b[1mPackage operations\u001b[0m: \u001b[34m3\u001b[0m installs, \u001b[34m0\u001b[0m updates, \u001b[34m0\u001b[0m removals\n",
      "\n",
      "  \u001b[34;1m•\u001b[0m \u001b[39mInstalling \u001b[0m\u001b[36mnumpy\u001b[0m\u001b[39m (\u001b[0m\u001b[39;1m1.19.5\u001b[0m\u001b[39m)\u001b[0m: \u001b[34mPending...\u001b[0m\n",
      "\u001b[1A\u001b[0J  \u001b[34;1m•\u001b[0m \u001b[39mInstalling \u001b[0m\u001b[36mnumpy\u001b[0m\u001b[39m (\u001b[0m\u001b[39;1m1.19.5\u001b[0m\u001b[39m)\u001b[0m: \u001b[34mInstalling...\u001b[0m\n",
      "\u001b[1A\u001b[0J  \u001b[32;1m•\u001b[0m \u001b[39mInstalling \u001b[0m\u001b[36mnumpy\u001b[0m\u001b[39m (\u001b[0m\u001b[32m1.19.5\u001b[0m\u001b[39m)\u001b[0m\n",
      "  \u001b[34;1m•\u001b[0m \u001b[39mInstalling \u001b[0m\u001b[36mpandas\u001b[0m\u001b[39m (\u001b[0m\u001b[39;1m1.1.5\u001b[0m\u001b[39m)\u001b[0m: \u001b[34mPending...\u001b[0m\n",
      "\u001b[1A\u001b[0J  \u001b[34;1m•\u001b[0m \u001b[39mInstalling \u001b[0m\u001b[36mpandas\u001b[0m\u001b[39m (\u001b[0m\u001b[39;1m1.1.5\u001b[0m\u001b[39m)\u001b[0m: \u001b[34mDownloading...\u001b[0m \u001b[1m0%\u001b[0m\n",
      "\u001b[1A\u001b[0J  \u001b[34;1m•\u001b[0m \u001b[39mInstalling \u001b[0m\u001b[36mpandas\u001b[0m\u001b[39m (\u001b[0m\u001b[39;1m1.1.5\u001b[0m\u001b[39m)\u001b[0m: \u001b[34mDownloading...\u001b[0m \u001b[1m10%\u001b[0m\n",
      "\u001b[1A\u001b[0J  \u001b[34;1m•\u001b[0m \u001b[39mInstalling \u001b[0m\u001b[36mpandas\u001b[0m\u001b[39m (\u001b[0m\u001b[39;1m1.1.5\u001b[0m\u001b[39m)\u001b[0m: \u001b[34mDownloading...\u001b[0m \u001b[1m20%\u001b[0m\n",
      "\u001b[1A\u001b[0J  \u001b[34;1m•\u001b[0m \u001b[39mInstalling \u001b[0m\u001b[36mpandas\u001b[0m\u001b[39m (\u001b[0m\u001b[39;1m1.1.5\u001b[0m\u001b[39m)\u001b[0m: \u001b[34mDownloading...\u001b[0m \u001b[1m30%\u001b[0m\n",
      "\u001b[1A\u001b[0J  \u001b[34;1m•\u001b[0m \u001b[39mInstalling \u001b[0m\u001b[36mpandas\u001b[0m\u001b[39m (\u001b[0m\u001b[39;1m1.1.5\u001b[0m\u001b[39m)\u001b[0m: \u001b[34mDownloading...\u001b[0m \u001b[1m40%\u001b[0m\n",
      "\u001b[1A\u001b[0J  \u001b[34;1m•\u001b[0m \u001b[39mInstalling \u001b[0m\u001b[36mpandas\u001b[0m\u001b[39m (\u001b[0m\u001b[39;1m1.1.5\u001b[0m\u001b[39m)\u001b[0m: \u001b[34mDownloading...\u001b[0m \u001b[1m50%\u001b[0m\n",
      "\u001b[1A\u001b[0J  \u001b[34;1m•\u001b[0m \u001b[39mInstalling \u001b[0m\u001b[36mpandas\u001b[0m\u001b[39m (\u001b[0m\u001b[39;1m1.1.5\u001b[0m\u001b[39m)\u001b[0m: \u001b[34mDownloading...\u001b[0m \u001b[1m60%\u001b[0m\n",
      "\u001b[1A\u001b[0J  \u001b[34;1m•\u001b[0m \u001b[39mInstalling \u001b[0m\u001b[36mpandas\u001b[0m\u001b[39m (\u001b[0m\u001b[39;1m1.1.5\u001b[0m\u001b[39m)\u001b[0m: \u001b[34mDownloading...\u001b[0m \u001b[1m70%\u001b[0m\n",
      "\u001b[1A\u001b[0J  \u001b[34;1m•\u001b[0m \u001b[39mInstalling \u001b[0m\u001b[36mpandas\u001b[0m\u001b[39m (\u001b[0m\u001b[39;1m1.1.5\u001b[0m\u001b[39m)\u001b[0m: \u001b[34mDownloading...\u001b[0m \u001b[1m80%\u001b[0m\n",
      "\u001b[1A\u001b[0J  \u001b[34;1m•\u001b[0m \u001b[39mInstalling \u001b[0m\u001b[36mpandas\u001b[0m\u001b[39m (\u001b[0m\u001b[39;1m1.1.5\u001b[0m\u001b[39m)\u001b[0m: \u001b[34mDownloading...\u001b[0m \u001b[1m90%\u001b[0m\n",
      "\u001b[1A\u001b[0J  \u001b[34;1m•\u001b[0m \u001b[39mInstalling \u001b[0m\u001b[36mpandas\u001b[0m\u001b[39m (\u001b[0m\u001b[39;1m1.1.5\u001b[0m\u001b[39m)\u001b[0m: \u001b[34mDownloading...\u001b[0m \u001b[1m100%\u001b[0m\n",
      "\u001b[1A\u001b[0J  \u001b[34;1m•\u001b[0m \u001b[39mInstalling \u001b[0m\u001b[36mpandas\u001b[0m\u001b[39m (\u001b[0m\u001b[39;1m1.1.5\u001b[0m\u001b[39m)\u001b[0m: \u001b[34mDownloading...\u001b[0m \u001b[1m100%\u001b[0m\n",
      "\u001b[1A\u001b[0J  \u001b[34;1m•\u001b[0m \u001b[39mInstalling \u001b[0m\u001b[36mpandas\u001b[0m\u001b[39m (\u001b[0m\u001b[39;1m1.1.5\u001b[0m\u001b[39m)\u001b[0m: \u001b[34mInstalling...\u001b[0m\n",
      "\u001b[1A\u001b[0J  \u001b[32;1m•\u001b[0m \u001b[39mInstalling \u001b[0m\u001b[36mpandas\u001b[0m\u001b[39m (\u001b[0m\u001b[32m1.1.5\u001b[0m\u001b[39m)\u001b[0m\n",
      "  \u001b[34;1m•\u001b[0m \u001b[39mInstalling \u001b[0m\u001b[36mpandas-ta\u001b[0m\u001b[39m (\u001b[0m\u001b[39;1m0.2.23b\u001b[0m\u001b[39m)\u001b[0m: \u001b[34mPending...\u001b[0m\n",
      "\u001b[1A\u001b[0J  \u001b[34;1m•\u001b[0m \u001b[39mInstalling \u001b[0m\u001b[36mpandas-ta\u001b[0m\u001b[39m (\u001b[0m\u001b[39;1m0.2.23b\u001b[0m\u001b[39m)\u001b[0m: \u001b[34mDownloading...\u001b[0m \u001b[1m0%\u001b[0m\n",
      "\u001b[1A\u001b[0J  \u001b[34;1m•\u001b[0m \u001b[39mInstalling \u001b[0m\u001b[36mpandas-ta\u001b[0m\u001b[39m (\u001b[0m\u001b[39;1m0.2.23b\u001b[0m\u001b[39m)\u001b[0m: \u001b[34mDownloading...\u001b[0m \u001b[1m100%\u001b[0m\n",
      "\u001b[1A\u001b[0J  \u001b[34;1m•\u001b[0m \u001b[39mInstalling \u001b[0m\u001b[36mpandas-ta\u001b[0m\u001b[39m (\u001b[0m\u001b[39;1m0.2.23b\u001b[0m\u001b[39m)\u001b[0m: \u001b[34mDownloading...\u001b[0m \u001b[1m100%\u001b[0m\n",
      "\u001b[1A\u001b[0J  \u001b[34;1m•\u001b[0m \u001b[39mInstalling \u001b[0m\u001b[36mpandas-ta\u001b[0m\u001b[39m (\u001b[0m\u001b[39;1m0.2.23b\u001b[0m\u001b[39m)\u001b[0m: \u001b[34mInstalling...\u001b[0m\n",
      "\u001b[1A\u001b[0J  \u001b[32;1m•\u001b[0m \u001b[39mInstalling \u001b[0m\u001b[36mpandas-ta\u001b[0m\u001b[39m (\u001b[0m\u001b[32m0.2.23b\u001b[0m\u001b[39m)\u001b[0m\n"
     ]
    }
   ],
   "source": [
    "!poetry add pandas_ta"
   ]
  }
 ],
 "metadata": {
  "kernelspec": {
   "display_name": "Python 3",
   "language": "python",
   "name": "python3"
  },
  "language_info": {
   "codemirror_mode": {
    "name": "ipython",
    "version": 3
   },
   "file_extension": ".py",
   "mimetype": "text/x-python",
   "name": "python",
   "nbconvert_exporter": "python",
   "pygments_lexer": "ipython3",
   "version": "3.9.1"
  }
 },
 "nbformat": 4,
 "nbformat_minor": 5
}
