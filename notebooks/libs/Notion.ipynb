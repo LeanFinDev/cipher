{
 "cells": [
  {
   "cell_type": "code",
   "execution_count": 2,
   "id": "welcome-sense",
   "metadata": {},
   "outputs": [],
   "source": [
    "from dotenv import dotenv_values\n",
    "config = dotenv_values(\"../../.env\") \n"
   ]
  },
  {
   "cell_type": "code",
   "execution_count": 3,
   "id": "future-danish",
   "metadata": {},
   "outputs": [],
   "source": [
    "import os\n",
    "# https://github.com/ramnes/notion-sdk-py\n",
    "from notion_client import Client\n",
    "\n",
    "notion = Client(auth=config[\"NO_TOKEN\"])"
   ]
  },
  {
   "cell_type": "code",
   "execution_count": 4,
   "id": "scientific-kuwait",
   "metadata": {},
   "outputs": [
    {
     "data": {
      "text/plain": [
       "['__annotations__',\n",
       " '__class__',\n",
       " '__delattr__',\n",
       " '__dict__',\n",
       " '__dir__',\n",
       " '__doc__',\n",
       " '__eq__',\n",
       " '__format__',\n",
       " '__ge__',\n",
       " '__getattribute__',\n",
       " '__gt__',\n",
       " '__hash__',\n",
       " '__init__',\n",
       " '__init_subclass__',\n",
       " '__le__',\n",
       " '__lt__',\n",
       " '__module__',\n",
       " '__ne__',\n",
       " '__new__',\n",
       " '__reduce__',\n",
       " '__reduce_ex__',\n",
       " '__repr__',\n",
       " '__setattr__',\n",
       " '__sizeof__',\n",
       " '__str__',\n",
       " '__subclasshook__',\n",
       " '__weakref__',\n",
       " '_build_request',\n",
       " '_parse_response',\n",
       " 'blocks',\n",
       " 'client',\n",
       " 'databases',\n",
       " 'logger',\n",
       " 'pages',\n",
       " 'request',\n",
       " 'search',\n",
       " 'users']"
      ]
     },
     "execution_count": 4,
     "metadata": {},
     "output_type": "execute_result"
    }
   ],
   "source": [
    "dir(notion)"
   ]
  },
  {
   "cell_type": "code",
   "execution_count": 5,
   "id": "phantom-treatment",
   "metadata": {},
   "outputs": [
    {
     "data": {
      "text/plain": [
       "['__class__',\n",
       " '__delattr__',\n",
       " '__dict__',\n",
       " '__dir__',\n",
       " '__doc__',\n",
       " '__eq__',\n",
       " '__format__',\n",
       " '__ge__',\n",
       " '__getattribute__',\n",
       " '__gt__',\n",
       " '__hash__',\n",
       " '__init__',\n",
       " '__init_subclass__',\n",
       " '__le__',\n",
       " '__lt__',\n",
       " '__module__',\n",
       " '__ne__',\n",
       " '__new__',\n",
       " '__reduce__',\n",
       " '__reduce_ex__',\n",
       " '__repr__',\n",
       " '__setattr__',\n",
       " '__sizeof__',\n",
       " '__str__',\n",
       " '__subclasshook__',\n",
       " '__weakref__',\n",
       " 'list',\n",
       " 'parent',\n",
       " 'query',\n",
       " 'retrieve']"
      ]
     },
     "execution_count": 5,
     "metadata": {},
     "output_type": "execute_result"
    }
   ],
   "source": [
    "dir(notion.databases)"
   ]
  },
  {
   "cell_type": "code",
   "execution_count": 6,
   "id": "correct-visit",
   "metadata": {},
   "outputs": [
    {
     "data": {
      "text/plain": [
       "{'object': 'list',\n",
       " 'results': [{'object': 'database',\n",
       "   'id': '28823fda-73df-4951-9bb2-0a399df6fe7b',\n",
       "   'created_time': '2021-06-26T16:57:00.000Z',\n",
       "   'last_edited_time': '2021-07-01T11:37:00.000Z',\n",
       "   'title': [{'type': 'text',\n",
       "     'text': {'content': 'Cypher', 'link': None},\n",
       "     'annotations': {'bold': False,\n",
       "      'italic': False,\n",
       "      'strikethrough': False,\n",
       "      'underline': False,\n",
       "      'code': False,\n",
       "      'color': 'default'},\n",
       "     'plain_text': 'Cypher',\n",
       "     'href': None}],\n",
       "   'properties': {'Tags': {'id': 'QRow',\n",
       "     'type': 'multi_select',\n",
       "     'multi_select': {'options': []}},\n",
       "    'Created': {'id': 'QZpS', 'type': 'created_time', 'created_time': {}},\n",
       "    'Name': {'id': 'title', 'type': 'title', 'title': {}}},\n",
       "   'parent': {'type': 'workspace', 'workspace': True}}],\n",
       " 'next_cursor': None,\n",
       " 'has_more': False}"
      ]
     },
     "execution_count": 6,
     "metadata": {},
     "output_type": "execute_result"
    }
   ],
   "source": [
    "notion.databases.list()"
   ]
  },
  {
   "cell_type": "code",
   "execution_count": 9,
   "id": "eleven-casting",
   "metadata": {},
   "outputs": [
    {
     "name": "stdout",
     "output_type": "stream",
     "text": [
      "{'has_more': False,\n",
      " 'next_cursor': None,\n",
      " 'object': 'list',\n",
      " 'results': [{'avatar_url': 'https://lh6.googleusercontent.com/-EKxFH4VeMm0/AAAAAAAAAAI/AAAAAAAAAAA/AMZuucmaXfENm1eEVZrQnsmos8bWmfQ7aw/photo.jpg',\n",
      "              'id': '2a8db2ae-723f-4654-bd82-08a226e8d667',\n",
      "              'name': 'Christopher Powell',\n",
      "              'object': 'user',\n",
      "              'person': {'email': 'w1647848@my.westminster.ac.uk'},\n",
      "              'type': 'person'},\n",
      "             {'avatar_url': 'https://lh6.googleusercontent.com/-sJsPEotQdKw/AAAAAAAAAAI/AAAAAAAAJQo/uruMN7v5FoM/photo.jpg?sz=50',\n",
      "              'id': 'b4e6a60c-fb96-4e44-9f28-668e272235f6',\n",
      "              'name': 'Samir Azzouz',\n",
      "              'object': 'user',\n",
      "              'person': {'email': 's.azzouz97@gmail.com'},\n",
      "              'type': 'person'},\n",
      "             {'avatar_url': None,\n",
      "              'id': 'b27ee941-5cf4-47b2-a854-086cfd8c1d69',\n",
      "              'name': 'Joe Scott',\n",
      "              'object': 'user',\n",
      "              'person': {'email': 'joe.rh.scott96@gmail.com'},\n",
      "              'type': 'person'},\n",
      "             {'avatar_url': None,\n",
      "              'bot': {},\n",
      "              'id': '43b3efde-34cb-4fc6-acfc-fbdd815e222e',\n",
      "              'name': 'cypher',\n",
      "              'object': 'user',\n",
      "              'type': 'bot'}]}\n"
     ]
    }
   ],
   "source": [
    "from pprint import pprint\n",
    "\n",
    "list_users_response = notion.users.list()\n",
    "pprint(list_users_response)"
   ]
  },
  {
   "cell_type": "code",
   "execution_count": 6,
   "id": "necessary-bacon",
   "metadata": {},
   "outputs": [
    {
     "name": "stdout",
     "output_type": "stream",
     "text": [
      "<notion_client.api_endpoints.PagesEndpoint object at 0x7fc9401e48b0>\n"
     ]
    }
   ],
   "source": [
    "from pprint import pprint\n",
    "\n",
    "pages = notion.pages\n",
    "pprint(pages)"
   ]
  },
  {
   "cell_type": "code",
   "execution_count": 8,
   "id": "supposed-hungarian",
   "metadata": {},
   "outputs": [
    {
     "data": {
      "text/plain": [
       "['__annotations__',\n",
       " '__class__',\n",
       " '__delattr__',\n",
       " '__dict__',\n",
       " '__dir__',\n",
       " '__doc__',\n",
       " '__eq__',\n",
       " '__format__',\n",
       " '__ge__',\n",
       " '__getattribute__',\n",
       " '__gt__',\n",
       " '__hash__',\n",
       " '__init__',\n",
       " '__init_subclass__',\n",
       " '__le__',\n",
       " '__lt__',\n",
       " '__module__',\n",
       " '__ne__',\n",
       " '__new__',\n",
       " '__reduce__',\n",
       " '__reduce_ex__',\n",
       " '__repr__',\n",
       " '__setattr__',\n",
       " '__sizeof__',\n",
       " '__str__',\n",
       " '__subclasshook__',\n",
       " '__weakref__',\n",
       " '_build_request',\n",
       " '_parse_response',\n",
       " 'blocks',\n",
       " 'client',\n",
       " 'databases',\n",
       " 'logger',\n",
       " 'pages',\n",
       " 'request',\n",
       " 'search',\n",
       " 'users']"
      ]
     },
     "execution_count": 8,
     "metadata": {},
     "output_type": "execute_result"
    }
   ],
   "source": [
    "dir(notion)"
   ]
  },
  {
   "cell_type": "code",
   "execution_count": 7,
   "id": "welsh-victor",
   "metadata": {},
   "outputs": [
    {
     "data": {
      "text/plain": [
       "<bound method PagesEndpoint.retrieve of <notion_client.api_endpoints.PagesEndpoint object at 0x7fc9401e48b0>>"
      ]
     },
     "execution_count": 7,
     "metadata": {},
     "output_type": "execute_result"
    }
   ],
   "source": [
    "pages.retrieve()"
   ]
  },
  {
   "cell_type": "code",
   "execution_count": 11,
   "id": "varied-jason",
   "metadata": {},
   "outputs": [
    {
     "data": {
      "text/plain": [
       "['__class__',\n",
       " '__delattr__',\n",
       " '__dict__',\n",
       " '__dir__',\n",
       " '__doc__',\n",
       " '__eq__',\n",
       " '__format__',\n",
       " '__ge__',\n",
       " '__getattribute__',\n",
       " '__gt__',\n",
       " '__hash__',\n",
       " '__init__',\n",
       " '__init_subclass__',\n",
       " '__le__',\n",
       " '__lt__',\n",
       " '__module__',\n",
       " '__ne__',\n",
       " '__new__',\n",
       " '__reduce__',\n",
       " '__reduce_ex__',\n",
       " '__repr__',\n",
       " '__setattr__',\n",
       " '__sizeof__',\n",
       " '__str__',\n",
       " '__subclasshook__',\n",
       " '__weakref__',\n",
       " 'create',\n",
       " 'parent',\n",
       " 'retrieve',\n",
       " 'update']"
      ]
     },
     "execution_count": 11,
     "metadata": {},
     "output_type": "execute_result"
    }
   ],
   "source": [
    "dir(notion.pages)"
   ]
  },
  {
   "cell_type": "code",
   "execution_count": 8,
   "id": "human-equilibrium",
   "metadata": {},
   "outputs": [
    {
     "ename": "TypeError",
     "evalue": "exception() missing 1 required positional argument: 'msg'",
     "output_type": "error",
     "traceback": [
      "\u001b[0;31m---------------------------------------------------------------------------\u001b[0m",
      "\u001b[0;31mHTTPStatusError\u001b[0m                           Traceback (most recent call last)",
      "\u001b[0;32m~/.cache/pypoetry/virtualenvs/cypher-aayCticl-py3.8/lib/python3.8/site-packages/notion_client/client.py\u001b[0m in \u001b[0;36m_parse_response\u001b[0;34m(self, response)\u001b[0m\n\u001b[1;32m     82\u001b[0m         \u001b[0;32mtry\u001b[0m\u001b[0;34m:\u001b[0m\u001b[0;34m\u001b[0m\u001b[0;34m\u001b[0m\u001b[0m\n\u001b[0;32m---> 83\u001b[0;31m             \u001b[0mresponse\u001b[0m\u001b[0;34m.\u001b[0m\u001b[0mraise_for_status\u001b[0m\u001b[0;34m(\u001b[0m\u001b[0;34m)\u001b[0m\u001b[0;34m\u001b[0m\u001b[0;34m\u001b[0m\u001b[0m\n\u001b[0m\u001b[1;32m     84\u001b[0m         \u001b[0;32mexcept\u001b[0m \u001b[0mhttpx\u001b[0m\u001b[0;34m.\u001b[0m\u001b[0mTimeoutException\u001b[0m \u001b[0;32mas\u001b[0m \u001b[0merror\u001b[0m\u001b[0;34m:\u001b[0m\u001b[0;34m\u001b[0m\u001b[0;34m\u001b[0m\u001b[0m\n",
      "\u001b[0;32m~/.cache/pypoetry/virtualenvs/cypher-aayCticl-py3.8/lib/python3.8/site-packages/httpx/_models.py\u001b[0m in \u001b[0;36mraise_for_status\u001b[0;34m(self)\u001b[0m\n\u001b[1;32m   1104\u001b[0m             \u001b[0mmessage\u001b[0m \u001b[0;34m=\u001b[0m \u001b[0mmessage\u001b[0m\u001b[0;34m.\u001b[0m\u001b[0mformat\u001b[0m\u001b[0;34m(\u001b[0m\u001b[0mself\u001b[0m\u001b[0;34m,\u001b[0m \u001b[0merror_type\u001b[0m\u001b[0;34m=\u001b[0m\u001b[0;34m\"Client Error\"\u001b[0m\u001b[0;34m)\u001b[0m\u001b[0;34m\u001b[0m\u001b[0;34m\u001b[0m\u001b[0m\n\u001b[0;32m-> 1105\u001b[0;31m             \u001b[0;32mraise\u001b[0m \u001b[0mHTTPStatusError\u001b[0m\u001b[0;34m(\u001b[0m\u001b[0mmessage\u001b[0m\u001b[0;34m,\u001b[0m \u001b[0mrequest\u001b[0m\u001b[0;34m=\u001b[0m\u001b[0mrequest\u001b[0m\u001b[0;34m,\u001b[0m \u001b[0mresponse\u001b[0m\u001b[0;34m=\u001b[0m\u001b[0mself\u001b[0m\u001b[0;34m)\u001b[0m\u001b[0;34m\u001b[0m\u001b[0;34m\u001b[0m\u001b[0m\n\u001b[0m\u001b[1;32m   1106\u001b[0m         \u001b[0;32melif\u001b[0m \u001b[0mcodes\u001b[0m\u001b[0;34m.\u001b[0m\u001b[0mis_server_error\u001b[0m\u001b[0;34m(\u001b[0m\u001b[0mself\u001b[0m\u001b[0;34m.\u001b[0m\u001b[0mstatus_code\u001b[0m\u001b[0;34m)\u001b[0m\u001b[0;34m:\u001b[0m\u001b[0;34m\u001b[0m\u001b[0;34m\u001b[0m\u001b[0m\n",
      "\u001b[0;31mHTTPStatusError\u001b[0m: 400 Client Error: Bad Request for url: https://api.notion.com/v1/databases/28823fda-73df-4951-9bb2-0a399df6fe7b/query\nFor more information check: https://httpstatuses.com/400",
      "\nDuring handling of the above exception, another exception occurred:\n",
      "\u001b[0;31mAPIResponseError\u001b[0m                          Traceback (most recent call last)",
      "\u001b[0;32m<ipython-input-8-55c673e185fa>\u001b[0m in \u001b[0;36m<module>\u001b[0;34m\u001b[0m\n\u001b[1;32m      4\u001b[0m \u001b[0;32mtry\u001b[0m\u001b[0;34m:\u001b[0m\u001b[0;34m\u001b[0m\u001b[0;34m\u001b[0m\u001b[0m\n\u001b[0;32m----> 5\u001b[0;31m     my_page = notion.databases.query(\n\u001b[0m\u001b[1;32m      6\u001b[0m         **{\n",
      "\u001b[0;32m~/.cache/pypoetry/virtualenvs/cypher-aayCticl-py3.8/lib/python3.8/site-packages/notion_client/api_endpoints.py\u001b[0m in \u001b[0;36mquery\u001b[0;34m(self, database_id, **kwargs)\u001b[0m\n\u001b[1;32m     45\u001b[0m     \u001b[0;32mdef\u001b[0m \u001b[0mquery\u001b[0m\u001b[0;34m(\u001b[0m\u001b[0mself\u001b[0m\u001b[0;34m,\u001b[0m \u001b[0mdatabase_id\u001b[0m\u001b[0;34m:\u001b[0m \u001b[0mstr\u001b[0m\u001b[0;34m,\u001b[0m \u001b[0;34m**\u001b[0m\u001b[0mkwargs\u001b[0m\u001b[0;34m:\u001b[0m \u001b[0mAny\u001b[0m\u001b[0;34m)\u001b[0m \u001b[0;34m->\u001b[0m \u001b[0mSyncAsync\u001b[0m\u001b[0;34m[\u001b[0m\u001b[0mAny\u001b[0m\u001b[0;34m]\u001b[0m\u001b[0;34m:\u001b[0m\u001b[0;34m\u001b[0m\u001b[0;34m\u001b[0m\u001b[0m\n\u001b[0;32m---> 46\u001b[0;31m         return self.parent.request(\n\u001b[0m\u001b[1;32m     47\u001b[0m             \u001b[0mpath\u001b[0m\u001b[0;34m=\u001b[0m\u001b[0;34mf\"databases/{database_id}/query\"\u001b[0m\u001b[0;34m,\u001b[0m\u001b[0;34m\u001b[0m\u001b[0;34m\u001b[0m\u001b[0m\n",
      "\u001b[0;32m~/.cache/pypoetry/virtualenvs/cypher-aayCticl-py3.8/lib/python3.8/site-packages/notion_client/client.py\u001b[0m in \u001b[0;36mrequest\u001b[0;34m(self, path, method, query, body, auth)\u001b[0m\n\u001b[1;32m    132\u001b[0m         \u001b[0mresponse\u001b[0m \u001b[0;34m=\u001b[0m \u001b[0mself\u001b[0m\u001b[0;34m.\u001b[0m\u001b[0mclient\u001b[0m\u001b[0;34m.\u001b[0m\u001b[0msend\u001b[0m\u001b[0;34m(\u001b[0m\u001b[0mrequest\u001b[0m\u001b[0;34m)\u001b[0m\u001b[0;34m\u001b[0m\u001b[0;34m\u001b[0m\u001b[0m\n\u001b[0;32m--> 133\u001b[0;31m         \u001b[0;32mreturn\u001b[0m \u001b[0mself\u001b[0m\u001b[0;34m.\u001b[0m\u001b[0m_parse_response\u001b[0m\u001b[0;34m(\u001b[0m\u001b[0mresponse\u001b[0m\u001b[0;34m)\u001b[0m\u001b[0;34m\u001b[0m\u001b[0;34m\u001b[0m\u001b[0m\n\u001b[0m\u001b[1;32m    134\u001b[0m \u001b[0;34m\u001b[0m\u001b[0m\n",
      "\u001b[0;32m~/.cache/pypoetry/virtualenvs/cypher-aayCticl-py3.8/lib/python3.8/site-packages/notion_client/client.py\u001b[0m in \u001b[0;36m_parse_response\u001b[0;34m(self, response)\u001b[0m\n\u001b[1;32m     92\u001b[0m                 \u001b[0mbody\u001b[0m \u001b[0;34m=\u001b[0m \u001b[0mAPIErrorResponseBody\u001b[0m\u001b[0;34m(\u001b[0m\u001b[0mcode\u001b[0m\u001b[0;34m=\u001b[0m\u001b[0mcode\u001b[0m\u001b[0;34m,\u001b[0m \u001b[0mmessage\u001b[0m\u001b[0;34m=\u001b[0m\u001b[0mbody\u001b[0m\u001b[0;34m[\u001b[0m\u001b[0;34m\"message\"\u001b[0m\u001b[0;34m]\u001b[0m\u001b[0;34m)\u001b[0m\u001b[0;34m\u001b[0m\u001b[0;34m\u001b[0m\u001b[0m\n\u001b[0;32m---> 93\u001b[0;31m                 \u001b[0;32mraise\u001b[0m \u001b[0mAPIResponseError\u001b[0m\u001b[0;34m(\u001b[0m\u001b[0merror\u001b[0m\u001b[0;34m.\u001b[0m\u001b[0mresponse\u001b[0m\u001b[0;34m,\u001b[0m \u001b[0mbody\u001b[0m\u001b[0;34m)\u001b[0m\u001b[0;34m\u001b[0m\u001b[0;34m\u001b[0m\u001b[0m\n\u001b[0m\u001b[1;32m     94\u001b[0m             \u001b[0;32mraise\u001b[0m \u001b[0mHTTPResponseError\u001b[0m\u001b[0;34m(\u001b[0m\u001b[0merror\u001b[0m\u001b[0;34m.\u001b[0m\u001b[0mresponse\u001b[0m\u001b[0;34m)\u001b[0m\u001b[0;34m\u001b[0m\u001b[0;34m\u001b[0m\u001b[0m\n",
      "\u001b[0;31mAPIResponseError\u001b[0m: Could not find property with name or id: Landmark",
      "\nDuring handling of the above exception, another exception occurred:\n",
      "\u001b[0;31mTypeError\u001b[0m                                 Traceback (most recent call last)",
      "\u001b[0;32m<ipython-input-8-55c673e185fa>\u001b[0m in \u001b[0;36m<module>\u001b[0;34m\u001b[0m\n\u001b[1;32m     19\u001b[0m     \u001b[0;32melse\u001b[0m\u001b[0;34m:\u001b[0m\u001b[0;34m\u001b[0m\u001b[0;34m\u001b[0m\u001b[0m\n\u001b[1;32m     20\u001b[0m         \u001b[0;31m# Other error handling code\u001b[0m\u001b[0;34m\u001b[0m\u001b[0;34m\u001b[0m\u001b[0;34m\u001b[0m\u001b[0m\n\u001b[0;32m---> 21\u001b[0;31m         \u001b[0mlogging\u001b[0m\u001b[0;34m.\u001b[0m\u001b[0mexception\u001b[0m\u001b[0;34m(\u001b[0m\u001b[0;34m)\u001b[0m\u001b[0;34m\u001b[0m\u001b[0;34m\u001b[0m\u001b[0m\n\u001b[0m",
      "\u001b[0;31mTypeError\u001b[0m: exception() missing 1 required positional argument: 'msg'"
     ]
    }
   ],
   "source": [
    "import logging\n",
    "from notion_client import APIErrorCode, APIResponseError\n",
    "\n",
    "try:\n",
    "    my_page = notion.databases.query(\n",
    "        **{\n",
    "            \"database_id\": \"28823fda-73df-4951-9bb2-0a399df6fe7b\",\n",
    "            \"filter\": {\n",
    "                \"property\": \"Landmark\",\n",
    "                \"text\": {\n",
    "                    \"contains\": \"Bridge\",\n",
    "                },\n",
    "            },\n",
    "        }\n",
    "    )\n",
    "except APIResponseError as error:\n",
    "    if error.code == APIErrorCode.ObjectNotFound:\n",
    "        ...  # For example: handle by asking the user to select a different database\n",
    "    else:\n",
    "        # Other error handling code\n",
    "        logging.exception()"
   ]
  }
 ],
 "metadata": {
  "kernelspec": {
   "display_name": "Python 3",
   "language": "python",
   "name": "python3"
  },
  "language_info": {
   "codemirror_mode": {
    "name": "ipython",
    "version": 3
   },
   "file_extension": ".py",
   "mimetype": "text/x-python",
   "name": "python",
   "nbconvert_exporter": "python",
   "pygments_lexer": "ipython3",
   "version": "3.8.5"
  }
 },
 "nbformat": 4,
 "nbformat_minor": 5
}
