{
 "cells": [
  {
   "cell_type": "code",
   "execution_count": 1,
   "id": "homeless-stand",
   "metadata": {},
   "outputs": [],
   "source": [
    "import os\n",
    "from dotenv import dotenv_values\n",
    "import ccxt"
   ]
  },
  {
   "cell_type": "code",
   "execution_count": 2,
   "id": "partial-rapid",
   "metadata": {},
   "outputs": [
    {
     "data": {
      "text/plain": [
       "{'CB_PRO_API_KEY': '59103061a751956ccdc3acd63c4c8381',\n",
       " 'CB_PRO_SECRET': 'lC1SCOFfOTfwotem3MSWk7QmhpxaV68qGZK8YIZfsoDlulxktMxNAGSlEMVzpA22vl1WDdFzEEe9f3P/8CJAtg==',\n",
       " 'CB_PRO_PASSWORD': '006uf3i5hbvx',\n",
       " 'GN_API_KEY': '1uLeEOfOFGJUcQH6ZvHvo6WoBdT',\n",
       " 'GS_CLIENT_ID': '34556535053-dq78n03d9p0egesc91rlnnfjldtu5csm.apps.googleusercontent.com',\n",
       " 'GS_CLIENT_SECRET': '_-tQ6JQNyN9gpo4OHkB8xWrO',\n",
       " 'NO_TOKEN': 'secret_BM12F2FckmlrjASRHrUIIRzmFDjA2P2um5jsm7R62I'}"
      ]
     },
     "execution_count": 2,
     "metadata": {},
     "output_type": "execute_result"
    }
   ],
   "source": [
    "config = dotenv_values(\"../../.env\") \n",
    "config"
   ]
  },
  {
   "cell_type": "code",
   "execution_count": 3,
   "id": "entitled-gates",
   "metadata": {},
   "outputs": [],
   "source": [
    "import json\n",
    "import requests\n",
    "import pandas as pd\n",
    "\n",
    "\n",
    "# insert your API key here\n",
    "API_KEY = config['GN_API_KEY']\n",
    "\n",
    "# make API request\n",
    "res = requests.get('https://api.glassnode.com/v1/metrics/indicators/sopr',\n",
    "    params={'a': 'BTC', 'api_key': API_KEY})\n",
    "\n",
    "# convert to pandas dataframe\n",
    "df = pd.read_json(res.text, convert_dates=['t'])"
   ]
  },
  {
   "cell_type": "code",
   "execution_count": 4,
   "id": "noble-dynamics",
   "metadata": {},
   "outputs": [
    {
     "data": {
      "text/html": [
       "<div>\n",
       "<style scoped>\n",
       "    .dataframe tbody tr th:only-of-type {\n",
       "        vertical-align: middle;\n",
       "    }\n",
       "\n",
       "    .dataframe tbody tr th {\n",
       "        vertical-align: top;\n",
       "    }\n",
       "\n",
       "    .dataframe thead th {\n",
       "        text-align: right;\n",
       "    }\n",
       "</style>\n",
       "<table border=\"1\" class=\"dataframe\">\n",
       "  <thead>\n",
       "    <tr style=\"text-align: right;\">\n",
       "      <th></th>\n",
       "      <th>t</th>\n",
       "      <th>v</th>\n",
       "    </tr>\n",
       "  </thead>\n",
       "  <tbody>\n",
       "    <tr>\n",
       "      <th>0</th>\n",
       "      <td>2010-07-17</td>\n",
       "      <td>1.000000</td>\n",
       "    </tr>\n",
       "    <tr>\n",
       "      <th>1</th>\n",
       "      <td>2010-07-18</td>\n",
       "      <td>1.174760</td>\n",
       "    </tr>\n",
       "    <tr>\n",
       "      <th>2</th>\n",
       "      <td>2010-07-19</td>\n",
       "      <td>1.318536</td>\n",
       "    </tr>\n",
       "    <tr>\n",
       "      <th>3</th>\n",
       "      <td>2010-07-20</td>\n",
       "      <td>1.090517</td>\n",
       "    </tr>\n",
       "    <tr>\n",
       "      <th>4</th>\n",
       "      <td>2010-07-21</td>\n",
       "      <td>1.065532</td>\n",
       "    </tr>\n",
       "    <tr>\n",
       "      <th>...</th>\n",
       "      <td>...</td>\n",
       "      <td>...</td>\n",
       "    </tr>\n",
       "    <tr>\n",
       "      <th>3992</th>\n",
       "      <td>2021-06-21</td>\n",
       "      <td>0.984265</td>\n",
       "    </tr>\n",
       "    <tr>\n",
       "      <th>3993</th>\n",
       "      <td>2021-06-22</td>\n",
       "      <td>0.990235</td>\n",
       "    </tr>\n",
       "    <tr>\n",
       "      <th>3994</th>\n",
       "      <td>2021-06-23</td>\n",
       "      <td>0.999825</td>\n",
       "    </tr>\n",
       "    <tr>\n",
       "      <th>3995</th>\n",
       "      <td>2021-06-24</td>\n",
       "      <td>0.998990</td>\n",
       "    </tr>\n",
       "    <tr>\n",
       "      <th>3996</th>\n",
       "      <td>2021-06-25</td>\n",
       "      <td>0.958123</td>\n",
       "    </tr>\n",
       "  </tbody>\n",
       "</table>\n",
       "<p>3997 rows × 2 columns</p>\n",
       "</div>"
      ],
      "text/plain": [
       "              t         v\n",
       "0    2010-07-17  1.000000\n",
       "1    2010-07-18  1.174760\n",
       "2    2010-07-19  1.318536\n",
       "3    2010-07-20  1.090517\n",
       "4    2010-07-21  1.065532\n",
       "...         ...       ...\n",
       "3992 2021-06-21  0.984265\n",
       "3993 2021-06-22  0.990235\n",
       "3994 2021-06-23  0.999825\n",
       "3995 2021-06-24  0.998990\n",
       "3996 2021-06-25  0.958123\n",
       "\n",
       "[3997 rows x 2 columns]"
      ]
     },
     "execution_count": 4,
     "metadata": {},
     "output_type": "execute_result"
    }
   ],
   "source": [
    "df"
   ]
  },
  {
   "cell_type": "code",
   "execution_count": null,
   "id": "three-ceiling",
   "metadata": {},
   "outputs": [],
   "source": []
  }
 ],
 "metadata": {
  "kernelspec": {
   "display_name": "Python 3",
   "language": "python",
   "name": "python3"
  },
  "language_info": {
   "codemirror_mode": {
    "name": "ipython",
    "version": 3
   },
   "file_extension": ".py",
   "mimetype": "text/x-python",
   "name": "python",
   "nbconvert_exporter": "python",
   "pygments_lexer": "ipython3",
   "version": "3.8.5"
  }
 },
 "nbformat": 4,
 "nbformat_minor": 5
}
