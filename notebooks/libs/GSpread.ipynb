{
 "cells": [
  {
   "cell_type": "code",
   "execution_count": 1,
   "id": "scheduled-essay",
   "metadata": {},
   "outputs": [],
   "source": [
    "import gspread\n",
    "\n",
    "gc = gspread.oauth()"
   ]
  },
  {
   "cell_type": "code",
   "execution_count": 2,
   "id": "encouraging-mainstream",
   "metadata": {},
   "outputs": [
    {
     "data": {
      "text/plain": [
       "['__class__',\n",
       " '__delattr__',\n",
       " '__dict__',\n",
       " '__dir__',\n",
       " '__doc__',\n",
       " '__eq__',\n",
       " '__format__',\n",
       " '__ge__',\n",
       " '__getattribute__',\n",
       " '__gt__',\n",
       " '__hash__',\n",
       " '__init__',\n",
       " '__init_subclass__',\n",
       " '__le__',\n",
       " '__lt__',\n",
       " '__module__',\n",
       " '__ne__',\n",
       " '__new__',\n",
       " '__reduce__',\n",
       " '__reduce_ex__',\n",
       " '__repr__',\n",
       " '__setattr__',\n",
       " '__sizeof__',\n",
       " '__str__',\n",
       " '__subclasshook__',\n",
       " '__weakref__',\n",
       " 'auth',\n",
       " 'copy',\n",
       " 'create',\n",
       " 'del_spreadsheet',\n",
       " 'import_csv',\n",
       " 'insert_permission',\n",
       " 'list_permissions',\n",
       " 'list_spreadsheet_files',\n",
       " 'login',\n",
       " 'open',\n",
       " 'open_by_key',\n",
       " 'open_by_url',\n",
       " 'openall',\n",
       " 'remove_permission',\n",
       " 'request',\n",
       " 'session']"
      ]
     },
     "execution_count": 2,
     "metadata": {},
     "output_type": "execute_result"
    }
   ],
   "source": [
    "dir(gc)"
   ]
  },
  {
   "cell_type": "code",
   "execution_count": 3,
   "id": "handed-candy",
   "metadata": {},
   "outputs": [],
   "source": [
    "sht1 = gc.open_by_key('1vUSNPCetOY9rwYiByr4bwnmsHVNW74ZVN4SMFwsXB5c')\n",
    "worksheet = sht1.get_worksheet(0)"
   ]
  },
  {
   "cell_type": "code",
   "execution_count": 4,
   "id": "living-commerce",
   "metadata": {},
   "outputs": [],
   "source": [
    "val = worksheet.acell('B1').value"
   ]
  },
  {
   "cell_type": "code",
   "execution_count": 5,
   "id": "aboriginal-agent",
   "metadata": {},
   "outputs": [
    {
     "data": {
      "text/plain": [
       "'2'"
      ]
     },
     "execution_count": 5,
     "metadata": {},
     "output_type": "execute_result"
    }
   ],
   "source": [
    "val"
   ]
  },
  {
   "cell_type": "code",
   "execution_count": 6,
   "id": "established-vegetarian",
   "metadata": {},
   "outputs": [
    {
     "data": {
      "text/plain": [
       "{'spreadsheetId': '1vUSNPCetOY9rwYiByr4bwnmsHVNW74ZVN4SMFwsXB5c',\n",
       " 'updatedRange': 'Sheet1!B1',\n",
       " 'updatedRows': 1,\n",
       " 'updatedColumns': 1,\n",
       " 'updatedCells': 1}"
      ]
     },
     "execution_count": 6,
     "metadata": {},
     "output_type": "execute_result"
    }
   ],
   "source": [
    "worksheet.update('B1', 'Bingo!')"
   ]
  },
  {
   "cell_type": "code",
   "execution_count": 7,
   "id": "palestinian-ireland",
   "metadata": {},
   "outputs": [
    {
     "data": {
      "text/plain": [
       "{'spreadsheetId': '1vUSNPCetOY9rwYiByr4bwnmsHVNW74ZVN4SMFwsXB5c',\n",
       " 'updatedRange': 'Sheet1!B1',\n",
       " 'updatedRows': 1,\n",
       " 'updatedColumns': 1,\n",
       " 'updatedCells': 1}"
      ]
     },
     "execution_count": 7,
     "metadata": {},
     "output_type": "execute_result"
    }
   ],
   "source": [
    "worksheet.update_cell(1, 2, 'Bingo!')"
   ]
  },
  {
   "cell_type": "code",
   "execution_count": 8,
   "id": "nearby-interference",
   "metadata": {},
   "outputs": [
    {
     "data": {
      "text/plain": [
       "{'spreadsheetId': '1vUSNPCetOY9rwYiByr4bwnmsHVNW74ZVN4SMFwsXB5c',\n",
       " 'updatedRange': 'Sheet1!A1:B2',\n",
       " 'updatedRows': 2,\n",
       " 'updatedColumns': 2,\n",
       " 'updatedCells': 4}"
      ]
     },
     "execution_count": 8,
     "metadata": {},
     "output_type": "execute_result"
    }
   ],
   "source": [
    "worksheet.update('A1:B2', [[1, 2], [3, 4]])"
   ]
  },
  {
   "cell_type": "code",
   "execution_count": 9,
   "id": "criminal-literature",
   "metadata": {},
   "outputs": [
    {
     "data": {
      "text/plain": [
       "{'spreadsheetId': '1vUSNPCetOY9rwYiByr4bwnmsHVNW74ZVN4SMFwsXB5c',\n",
       " 'replies': [{}]}"
      ]
     },
     "execution_count": 9,
     "metadata": {},
     "output_type": "execute_result"
    }
   ],
   "source": [
    "worksheet.format('A1:B1', {'textFormat': {'bold': True}})"
   ]
  },
  {
   "cell_type": "code",
   "execution_count": 10,
   "id": "joint-connectivity",
   "metadata": {},
   "outputs": [
    {
     "data": {
      "text/plain": [
       "{'spreadsheetId': '1vUSNPCetOY9rwYiByr4bwnmsHVNW74ZVN4SMFwsXB5c',\n",
       " 'replies': [{}]}"
      ]
     },
     "execution_count": 10,
     "metadata": {},
     "output_type": "execute_result"
    }
   ],
   "source": [
    "worksheet.format(\"A2:B2\", {\n",
    "    \"backgroundColor\": {\n",
    "      \"red\": 0.0,\n",
    "      \"green\": 0.0,\n",
    "      \"blue\": 0.0\n",
    "    },\n",
    "    \"horizontalAlignment\": \"CENTER\",\n",
    "    \"textFormat\": {\n",
    "      \"foregroundColor\": {\n",
    "        \"red\": 1.0,\n",
    "        \"green\": 1.0,\n",
    "        \"blue\": 1.0\n",
    "      },\n",
    "      \"fontSize\": 12,\n",
    "      \"bold\": True\n",
    "    }\n",
    "})"
   ]
  },
  {
   "cell_type": "code",
   "execution_count": 11,
   "id": "chubby-dinner",
   "metadata": {},
   "outputs": [
    {
     "data": {
      "text/html": [
       "<div>\n",
       "<style scoped>\n",
       "    .dataframe tbody tr th:only-of-type {\n",
       "        vertical-align: middle;\n",
       "    }\n",
       "\n",
       "    .dataframe tbody tr th {\n",
       "        vertical-align: top;\n",
       "    }\n",
       "\n",
       "    .dataframe thead th {\n",
       "        text-align: right;\n",
       "    }\n",
       "</style>\n",
       "<table border=\"1\" class=\"dataframe\">\n",
       "  <thead>\n",
       "    <tr style=\"text-align: right;\">\n",
       "      <th></th>\n",
       "      <th>1</th>\n",
       "      <th>2</th>\n",
       "    </tr>\n",
       "  </thead>\n",
       "  <tbody>\n",
       "    <tr>\n",
       "      <th>0</th>\n",
       "      <td>3</td>\n",
       "      <td>4</td>\n",
       "    </tr>\n",
       "  </tbody>\n",
       "</table>\n",
       "</div>"
      ],
      "text/plain": [
       "   1  2\n",
       "0  3  4"
      ]
     },
     "execution_count": 11,
     "metadata": {},
     "output_type": "execute_result"
    }
   ],
   "source": [
    "import pandas as pd\n",
    "\n",
    "dataframe = pd.DataFrame(worksheet.get_all_records())\n",
    "dataframe"
   ]
  },
  {
   "cell_type": "code",
   "execution_count": 12,
   "id": "designing-mexico",
   "metadata": {},
   "outputs": [
    {
     "data": {
      "text/plain": [
       "{'spreadsheetId': '1vUSNPCetOY9rwYiByr4bwnmsHVNW74ZVN4SMFwsXB5c',\n",
       " 'updatedRange': 'Sheet1!A1:B2',\n",
       " 'updatedRows': 2,\n",
       " 'updatedColumns': 2,\n",
       " 'updatedCells': 4}"
      ]
     },
     "execution_count": 12,
     "metadata": {},
     "output_type": "execute_result"
    }
   ],
   "source": [
    "import pandas as pd\n",
    "\n",
    "worksheet.update([dataframe.columns.values.tolist()] + dataframe.values.tolist())"
   ]
  },
  {
   "cell_type": "code",
   "execution_count": null,
   "id": "looking-hammer",
   "metadata": {},
   "outputs": [],
   "source": []
  }
 ],
 "metadata": {
  "kernelspec": {
   "display_name": "Python 3",
   "language": "python",
   "name": "python3"
  },
  "language_info": {
   "codemirror_mode": {
    "name": "ipython",
    "version": 3
   },
   "file_extension": ".py",
   "mimetype": "text/x-python",
   "name": "python",
   "nbconvert_exporter": "python",
   "pygments_lexer": "ipython3",
   "version": "3.8.5"
  }
 },
 "nbformat": 4,
 "nbformat_minor": 5
}
